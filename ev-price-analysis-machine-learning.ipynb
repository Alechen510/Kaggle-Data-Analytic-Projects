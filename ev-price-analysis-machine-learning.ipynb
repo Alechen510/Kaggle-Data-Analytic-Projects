{
 "cells": [
  {
   "cell_type": "code",
   "execution_count": 1,
   "id": "47367eab",
   "metadata": {
    "_cell_guid": "b1076dfc-b9ad-4769-8c92-a6c4dae69d19",
    "_uuid": "8f2839f25d086af736a60e9eeb907d3b93b6e0e5",
    "execution": {
     "iopub.execute_input": "2024-04-02T22:59:48.842444Z",
     "iopub.status.busy": "2024-04-02T22:59:48.841670Z",
     "iopub.status.idle": "2024-04-02T22:59:51.216692Z",
     "shell.execute_reply": "2024-04-02T22:59:51.215400Z"
    },
    "papermill": {
     "duration": 2.38801,
     "end_time": "2024-04-02T22:59:51.219626",
     "exception": false,
     "start_time": "2024-04-02T22:59:48.831616",
     "status": "completed"
    },
    "tags": []
   },
   "outputs": [],
   "source": [
    "import pandas as pd\n",
    "import matplotlib.pyplot as plt\n",
    "import sklearn\n",
    "from sklearn import svm\n",
    "from sklearn.preprocessing import StandardScaler\n",
    "from sklearn.model_selection import train_test_split"
   ]
  },
  {
   "cell_type": "code",
   "execution_count": 2,
   "id": "fb1c5e52",
   "metadata": {
    "execution": {
     "iopub.execute_input": "2024-04-02T22:59:51.237888Z",
     "iopub.status.busy": "2024-04-02T22:59:51.237298Z",
     "iopub.status.idle": "2024-04-02T22:59:51.259800Z",
     "shell.execute_reply": "2024-04-02T22:59:51.258635Z"
    },
    "papermill": {
     "duration": 0.034732,
     "end_time": "2024-04-02T22:59:51.262639",
     "exception": false,
     "start_time": "2024-04-02T22:59:51.227907",
     "status": "completed"
    },
    "tags": []
   },
   "outputs": [],
   "source": [
    "df = pd.read_csv('/kaggle/input/electric-vehicle-specifications-and-prices/EV_cars.csv')"
   ]
  },
  {
   "cell_type": "code",
   "execution_count": 3,
   "id": "c8cfef96",
   "metadata": {
    "execution": {
     "iopub.execute_input": "2024-04-02T22:59:51.280350Z",
     "iopub.status.busy": "2024-04-02T22:59:51.279971Z",
     "iopub.status.idle": "2024-04-02T22:59:51.287795Z",
     "shell.execute_reply": "2024-04-02T22:59:51.286622Z"
    },
    "papermill": {
     "duration": 0.019523,
     "end_time": "2024-04-02T22:59:51.290030",
     "exception": false,
     "start_time": "2024-04-02T22:59:51.270507",
     "status": "completed"
    },
    "tags": []
   },
   "outputs": [
    {
     "data": {
      "text/plain": [
       "Index(['Battery', 'Car_name', 'Car_name_link', 'Efficiency', 'Fast_charge',\n",
       "       'Price.DE.', 'Range', 'Top_speed', 'acceleration..0.100.'],\n",
       "      dtype='object')"
      ]
     },
     "execution_count": 3,
     "metadata": {},
     "output_type": "execute_result"
    }
   ],
   "source": [
    "df.columns"
   ]
  },
  {
   "cell_type": "code",
   "execution_count": 4,
   "id": "9c4a84c7",
   "metadata": {
    "execution": {
     "iopub.execute_input": "2024-04-02T22:59:51.308296Z",
     "iopub.status.busy": "2024-04-02T22:59:51.307914Z",
     "iopub.status.idle": "2024-04-02T22:59:51.316161Z",
     "shell.execute_reply": "2024-04-02T22:59:51.314957Z"
    },
    "papermill": {
     "duration": 0.019986,
     "end_time": "2024-04-02T22:59:51.318598",
     "exception": false,
     "start_time": "2024-04-02T22:59:51.298612",
     "status": "completed"
    },
    "tags": []
   },
   "outputs": [],
   "source": [
    "df.rename(columns={'Battery':'Battery',\n",
    "                         'Car_name':'Car', \n",
    "                         'Car_name_link':'Link', \n",
    "                         'Efficiency':'Efficiency', \n",
    "                         'Fast_charge':'Fast Charge',\n",
    "                        'Price.DE.': 'Price', \n",
    "                         'Range': 'Range', \n",
    "                         'Top_speed': 'Top Speed', \n",
    "                         'acceleration..0.100.':'Acceleration'\n",
    "    \n",
    "}, inplace = True)"
   ]
  },
  {
   "cell_type": "code",
   "execution_count": 5,
   "id": "60eaeeb0",
   "metadata": {
    "execution": {
     "iopub.execute_input": "2024-04-02T22:59:51.336664Z",
     "iopub.status.busy": "2024-04-02T22:59:51.336199Z",
     "iopub.status.idle": "2024-04-02T22:59:51.344740Z",
     "shell.execute_reply": "2024-04-02T22:59:51.343668Z"
    },
    "papermill": {
     "duration": 0.020215,
     "end_time": "2024-04-02T22:59:51.346886",
     "exception": false,
     "start_time": "2024-04-02T22:59:51.326671",
     "status": "completed"
    },
    "tags": []
   },
   "outputs": [
    {
     "data": {
      "text/plain": [
       "Battery         float64\n",
       "Car              object\n",
       "Link             object\n",
       "Efficiency        int64\n",
       "Fast Charge     float64\n",
       "Price           float64\n",
       "Range             int64\n",
       "Top Speed         int64\n",
       "Acceleration    float64\n",
       "dtype: object"
      ]
     },
     "execution_count": 5,
     "metadata": {},
     "output_type": "execute_result"
    }
   ],
   "source": [
    "df.dtypes"
   ]
  },
  {
   "cell_type": "code",
   "execution_count": 6,
   "id": "2f0eab1d",
   "metadata": {
    "execution": {
     "iopub.execute_input": "2024-04-02T22:59:51.365534Z",
     "iopub.status.busy": "2024-04-02T22:59:51.365077Z",
     "iopub.status.idle": "2024-04-02T22:59:51.390428Z",
     "shell.execute_reply": "2024-04-02T22:59:51.389061Z"
    },
    "papermill": {
     "duration": 0.037412,
     "end_time": "2024-04-02T22:59:51.392789",
     "exception": false,
     "start_time": "2024-04-02T22:59:51.355377",
     "status": "completed"
    },
    "tags": []
   },
   "outputs": [
    {
     "name": "stdout",
     "output_type": "stream",
     "text": [
      "<class 'pandas.core.frame.DataFrame'>\n",
      "RangeIndex: 360 entries, 0 to 359\n",
      "Data columns (total 9 columns):\n",
      " #   Column        Non-Null Count  Dtype  \n",
      "---  ------        --------------  -----  \n",
      " 0   Battery       360 non-null    float64\n",
      " 1   Car           360 non-null    object \n",
      " 2   Link          360 non-null    object \n",
      " 3   Efficiency    360 non-null    int64  \n",
      " 4   Fast Charge   358 non-null    float64\n",
      " 5   Price         309 non-null    float64\n",
      " 6   Range         360 non-null    int64  \n",
      " 7   Top Speed     360 non-null    int64  \n",
      " 8   Acceleration  360 non-null    float64\n",
      "dtypes: float64(4), int64(3), object(2)\n",
      "memory usage: 25.4+ KB\n"
     ]
    }
   ],
   "source": [
    "df.info()"
   ]
  },
  {
   "cell_type": "code",
   "execution_count": 7,
   "id": "906fbd08",
   "metadata": {
    "execution": {
     "iopub.execute_input": "2024-04-02T22:59:51.411356Z",
     "iopub.status.busy": "2024-04-02T22:59:51.410977Z",
     "iopub.status.idle": "2024-04-02T22:59:51.432501Z",
     "shell.execute_reply": "2024-04-02T22:59:51.431551Z"
    },
    "papermill": {
     "duration": 0.033795,
     "end_time": "2024-04-02T22:59:51.434990",
     "exception": false,
     "start_time": "2024-04-02T22:59:51.401195",
     "status": "completed"
    },
    "tags": []
   },
   "outputs": [
    {
     "data": {
      "text/html": [
       "<div>\n",
       "<style scoped>\n",
       "    .dataframe tbody tr th:only-of-type {\n",
       "        vertical-align: middle;\n",
       "    }\n",
       "\n",
       "    .dataframe tbody tr th {\n",
       "        vertical-align: top;\n",
       "    }\n",
       "\n",
       "    .dataframe thead th {\n",
       "        text-align: right;\n",
       "    }\n",
       "</style>\n",
       "<table border=\"1\" class=\"dataframe\">\n",
       "  <thead>\n",
       "    <tr style=\"text-align: right;\">\n",
       "      <th></th>\n",
       "      <th>Battery</th>\n",
       "      <th>Car</th>\n",
       "      <th>Link</th>\n",
       "      <th>Efficiency</th>\n",
       "      <th>Fast Charge</th>\n",
       "      <th>Price</th>\n",
       "      <th>Range</th>\n",
       "      <th>Top Speed</th>\n",
       "      <th>Acceleration</th>\n",
       "    </tr>\n",
       "  </thead>\n",
       "  <tbody>\n",
       "    <tr>\n",
       "      <th>0</th>\n",
       "      <td>75.0</td>\n",
       "      <td>Tesla Model Y Long Range Dual Motor</td>\n",
       "      <td>https://ev-database.org/car/1619/Tesla-Model-Y...</td>\n",
       "      <td>172</td>\n",
       "      <td>670.0</td>\n",
       "      <td>59017.0</td>\n",
       "      <td>435</td>\n",
       "      <td>217</td>\n",
       "      <td>5.0</td>\n",
       "    </tr>\n",
       "    <tr>\n",
       "      <th>1</th>\n",
       "      <td>57.5</td>\n",
       "      <td>Tesla Model 3</td>\n",
       "      <td>https://ev-database.org/car/1991/Tesla-Model-3</td>\n",
       "      <td>137</td>\n",
       "      <td>700.0</td>\n",
       "      <td>46220.0</td>\n",
       "      <td>420</td>\n",
       "      <td>201</td>\n",
       "      <td>6.1</td>\n",
       "    </tr>\n",
       "    <tr>\n",
       "      <th>2</th>\n",
       "      <td>60.5</td>\n",
       "      <td>BYD ATTO 3</td>\n",
       "      <td>https://ev-database.org/car/1782/BYD-ATTO-3</td>\n",
       "      <td>183</td>\n",
       "      <td>370.0</td>\n",
       "      <td>44625.0</td>\n",
       "      <td>330</td>\n",
       "      <td>160</td>\n",
       "      <td>7.3</td>\n",
       "    </tr>\n",
       "    <tr>\n",
       "      <th>3</th>\n",
       "      <td>61.7</td>\n",
       "      <td>MG MG4 Electric 64 kWh</td>\n",
       "      <td>https://ev-database.org/car/1708/MG-MG4-Electr...</td>\n",
       "      <td>171</td>\n",
       "      <td>630.0</td>\n",
       "      <td>39990.0</td>\n",
       "      <td>360</td>\n",
       "      <td>160</td>\n",
       "      <td>7.9</td>\n",
       "    </tr>\n",
       "    <tr>\n",
       "      <th>4</th>\n",
       "      <td>75.0</td>\n",
       "      <td>Tesla Model 3 Long Range Dual Motor</td>\n",
       "      <td>https://ev-database.org/car/1992/Tesla-Model-3...</td>\n",
       "      <td>149</td>\n",
       "      <td>780.0</td>\n",
       "      <td>55220.0</td>\n",
       "      <td>505</td>\n",
       "      <td>201</td>\n",
       "      <td>4.4</td>\n",
       "    </tr>\n",
       "  </tbody>\n",
       "</table>\n",
       "</div>"
      ],
      "text/plain": [
       "   Battery                                  Car  \\\n",
       "0     75.0  Tesla Model Y Long Range Dual Motor   \n",
       "1     57.5                        Tesla Model 3   \n",
       "2     60.5                           BYD ATTO 3   \n",
       "3     61.7               MG MG4 Electric 64 kWh   \n",
       "4     75.0  Tesla Model 3 Long Range Dual Motor   \n",
       "\n",
       "                                                Link  Efficiency  Fast Charge  \\\n",
       "0  https://ev-database.org/car/1619/Tesla-Model-Y...         172        670.0   \n",
       "1     https://ev-database.org/car/1991/Tesla-Model-3         137        700.0   \n",
       "2        https://ev-database.org/car/1782/BYD-ATTO-3         183        370.0   \n",
       "3  https://ev-database.org/car/1708/MG-MG4-Electr...         171        630.0   \n",
       "4  https://ev-database.org/car/1992/Tesla-Model-3...         149        780.0   \n",
       "\n",
       "     Price  Range  Top Speed  Acceleration  \n",
       "0  59017.0    435        217           5.0  \n",
       "1  46220.0    420        201           6.1  \n",
       "2  44625.0    330        160           7.3  \n",
       "3  39990.0    360        160           7.9  \n",
       "4  55220.0    505        201           4.4  "
      ]
     },
     "execution_count": 7,
     "metadata": {},
     "output_type": "execute_result"
    }
   ],
   "source": [
    "df.head()"
   ]
  },
  {
   "cell_type": "code",
   "execution_count": 8,
   "id": "8be925b5",
   "metadata": {
    "execution": {
     "iopub.execute_input": "2024-04-02T22:59:51.455467Z",
     "iopub.status.busy": "2024-04-02T22:59:51.454488Z",
     "iopub.status.idle": "2024-04-02T22:59:51.461632Z",
     "shell.execute_reply": "2024-04-02T22:59:51.460622Z"
    },
    "papermill": {
     "duration": 0.020196,
     "end_time": "2024-04-02T22:59:51.464163",
     "exception": false,
     "start_time": "2024-04-02T22:59:51.443967",
     "status": "completed"
    },
    "tags": []
   },
   "outputs": [
    {
     "data": {
      "text/plain": [
       "(360, 9)"
      ]
     },
     "execution_count": 8,
     "metadata": {},
     "output_type": "execute_result"
    }
   ],
   "source": [
    "df.shape"
   ]
  },
  {
   "cell_type": "code",
   "execution_count": 9,
   "id": "666bd068",
   "metadata": {
    "execution": {
     "iopub.execute_input": "2024-04-02T22:59:51.483910Z",
     "iopub.status.busy": "2024-04-02T22:59:51.483500Z",
     "iopub.status.idle": "2024-04-02T22:59:51.492372Z",
     "shell.execute_reply": "2024-04-02T22:59:51.491264Z"
    },
    "papermill": {
     "duration": 0.021302,
     "end_time": "2024-04-02T22:59:51.494617",
     "exception": false,
     "start_time": "2024-04-02T22:59:51.473315",
     "status": "completed"
    },
    "tags": []
   },
   "outputs": [
    {
     "data": {
      "text/plain": [
       "Battery          0\n",
       "Car              0\n",
       "Link             0\n",
       "Efficiency       0\n",
       "Fast Charge      2\n",
       "Price           51\n",
       "Range            0\n",
       "Top Speed        0\n",
       "Acceleration     0\n",
       "dtype: int64"
      ]
     },
     "execution_count": 9,
     "metadata": {},
     "output_type": "execute_result"
    }
   ],
   "source": [
    "# Check NA values\n",
    "df.isna().sum()"
   ]
  },
  {
   "cell_type": "code",
   "execution_count": 10,
   "id": "d7b22565",
   "metadata": {
    "execution": {
     "iopub.execute_input": "2024-04-02T22:59:51.514522Z",
     "iopub.status.busy": "2024-04-02T22:59:51.514094Z",
     "iopub.status.idle": "2024-04-02T22:59:51.524636Z",
     "shell.execute_reply": "2024-04-02T22:59:51.523748Z"
    },
    "papermill": {
     "duration": 0.023442,
     "end_time": "2024-04-02T22:59:51.526957",
     "exception": false,
     "start_time": "2024-04-02T22:59:51.503515",
     "status": "completed"
    },
    "tags": []
   },
   "outputs": [],
   "source": [
    "# Handle missing values\n",
    "df.dropna(subset=['Price'], inplace=True)"
   ]
  },
  {
   "cell_type": "code",
   "execution_count": 11,
   "id": "97bbd3e5",
   "metadata": {
    "execution": {
     "iopub.execute_input": "2024-04-02T22:59:51.547589Z",
     "iopub.status.busy": "2024-04-02T22:59:51.546838Z",
     "iopub.status.idle": "2024-04-02T22:59:51.563077Z",
     "shell.execute_reply": "2024-04-02T22:59:51.561596Z"
    },
    "papermill": {
     "duration": 0.028934,
     "end_time": "2024-04-02T22:59:51.565350",
     "exception": false,
     "start_time": "2024-04-02T22:59:51.536416",
     "status": "completed"
    },
    "tags": []
   },
   "outputs": [
    {
     "data": {
      "text/html": [
       "<div>\n",
       "<style scoped>\n",
       "    .dataframe tbody tr th:only-of-type {\n",
       "        vertical-align: middle;\n",
       "    }\n",
       "\n",
       "    .dataframe tbody tr th {\n",
       "        vertical-align: top;\n",
       "    }\n",
       "\n",
       "    .dataframe thead th {\n",
       "        text-align: right;\n",
       "    }\n",
       "</style>\n",
       "<table border=\"1\" class=\"dataframe\">\n",
       "  <thead>\n",
       "    <tr style=\"text-align: right;\">\n",
       "      <th></th>\n",
       "      <th>Battery</th>\n",
       "      <th>Car</th>\n",
       "      <th>Link</th>\n",
       "      <th>Efficiency</th>\n",
       "      <th>Fast Charge</th>\n",
       "      <th>Price</th>\n",
       "      <th>Range</th>\n",
       "      <th>Top Speed</th>\n",
       "      <th>Acceleration</th>\n",
       "    </tr>\n",
       "  </thead>\n",
       "  <tbody>\n",
       "    <tr>\n",
       "      <th>49</th>\n",
       "      <td>21.3</td>\n",
       "      <td>Renault Twingo Electric</td>\n",
       "      <td>https://ev-database.org/car/1270/Renault-Twing...</td>\n",
       "      <td>158</td>\n",
       "      <td>NaN</td>\n",
       "      <td>28000.0</td>\n",
       "      <td>135</td>\n",
       "      <td>135</td>\n",
       "      <td>12.6</td>\n",
       "    </tr>\n",
       "    <tr>\n",
       "      <th>264</th>\n",
       "      <td>27.0</td>\n",
       "      <td>e.Go e.wave X</td>\n",
       "      <td>https://ev-database.org/car/1896/eGo-ewave-X</td>\n",
       "      <td>180</td>\n",
       "      <td>NaN</td>\n",
       "      <td>24990.0</td>\n",
       "      <td>150</td>\n",
       "      <td>135</td>\n",
       "      <td>12.0</td>\n",
       "    </tr>\n",
       "  </tbody>\n",
       "</table>\n",
       "</div>"
      ],
      "text/plain": [
       "     Battery                      Car  \\\n",
       "49      21.3  Renault Twingo Electric   \n",
       "264     27.0            e.Go e.wave X   \n",
       "\n",
       "                                                  Link  Efficiency  \\\n",
       "49   https://ev-database.org/car/1270/Renault-Twing...         158   \n",
       "264       https://ev-database.org/car/1896/eGo-ewave-X         180   \n",
       "\n",
       "     Fast Charge    Price  Range  Top Speed  Acceleration  \n",
       "49           NaN  28000.0    135        135          12.6  \n",
       "264          NaN  24990.0    150        135          12.0  "
      ]
     },
     "execution_count": 11,
     "metadata": {},
     "output_type": "execute_result"
    }
   ],
   "source": [
    "# filter out the missing record\n",
    "missing_price_records = df[df.isna().any(axis = 1)]\n",
    "\n",
    "missing_price_records.head()"
   ]
  },
  {
   "cell_type": "code",
   "execution_count": 12,
   "id": "025503b3",
   "metadata": {
    "execution": {
     "iopub.execute_input": "2024-04-02T22:59:51.586837Z",
     "iopub.status.busy": "2024-04-02T22:59:51.586135Z",
     "iopub.status.idle": "2024-04-02T22:59:51.591810Z",
     "shell.execute_reply": "2024-04-02T22:59:51.590862Z"
    },
    "papermill": {
     "duration": 0.018835,
     "end_time": "2024-04-02T22:59:51.594398",
     "exception": false,
     "start_time": "2024-04-02T22:59:51.575563",
     "status": "completed"
    },
    "tags": []
   },
   "outputs": [],
   "source": [
    "# Split data into features and target variable\n",
    "X = df[['Battery']]  # Feature(s) used for prediction\n",
    "y = df['Price']      # Target variable\n"
   ]
  },
  {
   "cell_type": "code",
   "execution_count": 13,
   "id": "431e0801",
   "metadata": {
    "execution": {
     "iopub.execute_input": "2024-04-02T22:59:51.614341Z",
     "iopub.status.busy": "2024-04-02T22:59:51.613924Z",
     "iopub.status.idle": "2024-04-02T22:59:51.623048Z",
     "shell.execute_reply": "2024-04-02T22:59:51.621847Z"
    },
    "papermill": {
     "duration": 0.02189,
     "end_time": "2024-04-02T22:59:51.625478",
     "exception": false,
     "start_time": "2024-04-02T22:59:51.603588",
     "status": "completed"
    },
    "tags": []
   },
   "outputs": [],
   "source": [
    "# Feature scaling\n",
    "scaler = StandardScaler()\n",
    "X_scaled = scaler.fit_transform(X)\n"
   ]
  },
  {
   "cell_type": "code",
   "execution_count": 14,
   "id": "f155ade2",
   "metadata": {
    "execution": {
     "iopub.execute_input": "2024-04-02T22:59:51.645686Z",
     "iopub.status.busy": "2024-04-02T22:59:51.645250Z",
     "iopub.status.idle": "2024-04-02T22:59:51.654181Z",
     "shell.execute_reply": "2024-04-02T22:59:51.652903Z"
    },
    "papermill": {
     "duration": 0.022005,
     "end_time": "2024-04-02T22:59:51.656854",
     "exception": false,
     "start_time": "2024-04-02T22:59:51.634849",
     "status": "completed"
    },
    "tags": []
   },
   "outputs": [],
   "source": [
    "# Split data into train and test sets\n",
    "X_train, X_test, y_train, y_test = train_test_split(X_scaled, y, test_size=0.2, random_state=42)\n"
   ]
  },
  {
   "cell_type": "code",
   "execution_count": 15,
   "id": "1ff502c4",
   "metadata": {
    "execution": {
     "iopub.execute_input": "2024-04-02T22:59:51.677759Z",
     "iopub.status.busy": "2024-04-02T22:59:51.676528Z",
     "iopub.status.idle": "2024-04-02T22:59:51.693132Z",
     "shell.execute_reply": "2024-04-02T22:59:51.691957Z"
    },
    "papermill": {
     "duration": 0.029392,
     "end_time": "2024-04-02T22:59:51.695490",
     "exception": false,
     "start_time": "2024-04-02T22:59:51.666098",
     "status": "completed"
    },
    "tags": []
   },
   "outputs": [
    {
     "data": {
      "text/html": [
       "<style>#sk-container-id-1 {color: black;background-color: white;}#sk-container-id-1 pre{padding: 0;}#sk-container-id-1 div.sk-toggleable {background-color: white;}#sk-container-id-1 label.sk-toggleable__label {cursor: pointer;display: block;width: 100%;margin-bottom: 0;padding: 0.3em;box-sizing: border-box;text-align: center;}#sk-container-id-1 label.sk-toggleable__label-arrow:before {content: \"▸\";float: left;margin-right: 0.25em;color: #696969;}#sk-container-id-1 label.sk-toggleable__label-arrow:hover:before {color: black;}#sk-container-id-1 div.sk-estimator:hover label.sk-toggleable__label-arrow:before {color: black;}#sk-container-id-1 div.sk-toggleable__content {max-height: 0;max-width: 0;overflow: hidden;text-align: left;background-color: #f0f8ff;}#sk-container-id-1 div.sk-toggleable__content pre {margin: 0.2em;color: black;border-radius: 0.25em;background-color: #f0f8ff;}#sk-container-id-1 input.sk-toggleable__control:checked~div.sk-toggleable__content {max-height: 200px;max-width: 100%;overflow: auto;}#sk-container-id-1 input.sk-toggleable__control:checked~label.sk-toggleable__label-arrow:before {content: \"▾\";}#sk-container-id-1 div.sk-estimator input.sk-toggleable__control:checked~label.sk-toggleable__label {background-color: #d4ebff;}#sk-container-id-1 div.sk-label input.sk-toggleable__control:checked~label.sk-toggleable__label {background-color: #d4ebff;}#sk-container-id-1 input.sk-hidden--visually {border: 0;clip: rect(1px 1px 1px 1px);clip: rect(1px, 1px, 1px, 1px);height: 1px;margin: -1px;overflow: hidden;padding: 0;position: absolute;width: 1px;}#sk-container-id-1 div.sk-estimator {font-family: monospace;background-color: #f0f8ff;border: 1px dotted black;border-radius: 0.25em;box-sizing: border-box;margin-bottom: 0.5em;}#sk-container-id-1 div.sk-estimator:hover {background-color: #d4ebff;}#sk-container-id-1 div.sk-parallel-item::after {content: \"\";width: 100%;border-bottom: 1px solid gray;flex-grow: 1;}#sk-container-id-1 div.sk-label:hover label.sk-toggleable__label {background-color: #d4ebff;}#sk-container-id-1 div.sk-serial::before {content: \"\";position: absolute;border-left: 1px solid gray;box-sizing: border-box;top: 0;bottom: 0;left: 50%;z-index: 0;}#sk-container-id-1 div.sk-serial {display: flex;flex-direction: column;align-items: center;background-color: white;padding-right: 0.2em;padding-left: 0.2em;position: relative;}#sk-container-id-1 div.sk-item {position: relative;z-index: 1;}#sk-container-id-1 div.sk-parallel {display: flex;align-items: stretch;justify-content: center;background-color: white;position: relative;}#sk-container-id-1 div.sk-item::before, #sk-container-id-1 div.sk-parallel-item::before {content: \"\";position: absolute;border-left: 1px solid gray;box-sizing: border-box;top: 0;bottom: 0;left: 50%;z-index: -1;}#sk-container-id-1 div.sk-parallel-item {display: flex;flex-direction: column;z-index: 1;position: relative;background-color: white;}#sk-container-id-1 div.sk-parallel-item:first-child::after {align-self: flex-end;width: 50%;}#sk-container-id-1 div.sk-parallel-item:last-child::after {align-self: flex-start;width: 50%;}#sk-container-id-1 div.sk-parallel-item:only-child::after {width: 0;}#sk-container-id-1 div.sk-dashed-wrapped {border: 1px dashed gray;margin: 0 0.4em 0.5em 0.4em;box-sizing: border-box;padding-bottom: 0.4em;background-color: white;}#sk-container-id-1 div.sk-label label {font-family: monospace;font-weight: bold;display: inline-block;line-height: 1.2em;}#sk-container-id-1 div.sk-label-container {text-align: center;}#sk-container-id-1 div.sk-container {/* jupyter's `normalize.less` sets `[hidden] { display: none; }` but bootstrap.min.css set `[hidden] { display: none !important; }` so we also need the `!important` here to be able to override the default hidden behavior on the sphinx rendered scikit-learn.org. See: https://github.com/scikit-learn/scikit-learn/issues/21755 */display: inline-block !important;position: relative;}#sk-container-id-1 div.sk-text-repr-fallback {display: none;}</style><div id=\"sk-container-id-1\" class=\"sk-top-container\"><div class=\"sk-text-repr-fallback\"><pre>SVR()</pre><b>In a Jupyter environment, please rerun this cell to show the HTML representation or trust the notebook. <br />On GitHub, the HTML representation is unable to render, please try loading this page with nbviewer.org.</b></div><div class=\"sk-container\" hidden><div class=\"sk-item\"><div class=\"sk-estimator sk-toggleable\"><input class=\"sk-toggleable__control sk-hidden--visually\" id=\"sk-estimator-id-1\" type=\"checkbox\" checked><label for=\"sk-estimator-id-1\" class=\"sk-toggleable__label sk-toggleable__label-arrow\">SVR</label><div class=\"sk-toggleable__content\"><pre>SVR()</pre></div></div></div></div></div>"
      ],
      "text/plain": [
       "SVR()"
      ]
     },
     "execution_count": 15,
     "metadata": {},
     "output_type": "execute_result"
    }
   ],
   "source": [
    "# Training SVM model\n",
    "svm_model = svm.SVR()\n",
    "svm_model.fit(X_train, y_train)"
   ]
  },
  {
   "cell_type": "code",
   "execution_count": 16,
   "id": "19a672a3",
   "metadata": {
    "execution": {
     "iopub.execute_input": "2024-04-02T22:59:51.716584Z",
     "iopub.status.busy": "2024-04-02T22:59:51.715807Z",
     "iopub.status.idle": "2024-04-02T22:59:51.728228Z",
     "shell.execute_reply": "2024-04-02T22:59:51.726821Z"
    },
    "papermill": {
     "duration": 0.025795,
     "end_time": "2024-04-02T22:59:51.730637",
     "exception": false,
     "start_time": "2024-04-02T22:59:51.704842",
     "status": "completed"
    },
    "tags": []
   },
   "outputs": [
    {
     "name": "stdout",
     "output_type": "stream",
     "text": [
      "Train R^2 Score: -0.08632129114006148\n",
      "Test R^2 Score: -0.08748276109714626\n"
     ]
    }
   ],
   "source": [
    "# Evaluate model\n",
    "train_score = svm_model.score(X_train, y_train)\n",
    "test_score = svm_model.score(X_test, y_test)\n",
    "print(\"Train R^2 Score:\", train_score)\n",
    "print(\"Test R^2 Score:\", test_score)\n"
   ]
  },
  {
   "cell_type": "code",
   "execution_count": 17,
   "id": "aae9afd0",
   "metadata": {
    "execution": {
     "iopub.execute_input": "2024-04-02T22:59:51.751874Z",
     "iopub.status.busy": "2024-04-02T22:59:51.751456Z",
     "iopub.status.idle": "2024-04-02T22:59:51.759027Z",
     "shell.execute_reply": "2024-04-02T22:59:51.758111Z"
    },
    "papermill": {
     "duration": 0.021134,
     "end_time": "2024-04-02T22:59:51.761254",
     "exception": false,
     "start_time": "2024-04-02T22:59:51.740120",
     "status": "completed"
    },
    "tags": []
   },
   "outputs": [],
   "source": [
    "# Predict missing values\n",
    "predicted_values = svm_model.predict(X_scaled)"
   ]
  },
  {
   "cell_type": "code",
   "execution_count": 18,
   "id": "b6e19461",
   "metadata": {
    "execution": {
     "iopub.execute_input": "2024-04-02T22:59:51.782641Z",
     "iopub.status.busy": "2024-04-02T22:59:51.781909Z",
     "iopub.status.idle": "2024-04-02T22:59:51.791509Z",
     "shell.execute_reply": "2024-04-02T22:59:51.790750Z"
    },
    "papermill": {
     "duration": 0.022892,
     "end_time": "2024-04-02T22:59:51.793691",
     "exception": false,
     "start_time": "2024-04-02T22:59:51.770799",
     "status": "completed"
    },
    "tags": []
   },
   "outputs": [
    {
     "data": {
      "text/plain": [
       "array([57069.16195565, 57002.596571  , 57011.5463763 , 57015.63876151,\n",
       "       57069.16195565, 57002.596571  , 57052.87348716, 57024.13630856,\n",
       "       56991.5951448 , 57094.51896198, 57089.29634237, 57009.92136073,\n",
       "       57026.86282934, 57024.13630856, 57069.16195565, 57027.25679941,\n",
       "       57111.32241133, 57065.19973109, 57002.01871055, 57101.53402063,\n",
       "       57111.32241133, 57011.5463763 , 57003.94797913, 57027.93140617,\n",
       "       57090.80982425, 57089.29634237, 56990.84622063, 57041.55291928,\n",
       "       57107.01522551, 57024.13630856, 56989.83843996, 57016.70141778,\n",
       "       57065.19973109, 57076.75915217, 57102.18088609, 57100.90253184,\n",
       "       56990.84622063, 57094.51896198, 57076.75915217, 57029.64195247,\n",
       "       57003.94797913, 56992.03073551, 57111.18902213, 56990.00000008,\n",
       "       57100.67440619, 57034.26664032, 57076.75915217, 57103.52693247,\n",
       "       57020.13215679, 57036.15174815, 57065.19973109, 57065.19973109,\n",
       "       57065.19973109, 56990.84622063, 57104.61439567, 56998.75605566,\n",
       "       57076.75915217, 57076.75915217, 57111.25306091, 56990.00000008,\n",
       "       57078.93114558, 57066.79592518, 57065.19973109, 57002.596571  ,\n",
       "       57016.34553239, 56990.82235788, 57095.70611878, 57083.81303494,\n",
       "       57024.13630856, 57026.86282934, 56994.91666861, 56990.00000008,\n",
       "       57015.63876151, 57016.70141778, 57024.13630856, 57096.78688372,\n",
       "       57100.07727735, 57083.81303494, 57111.25306091, 57076.75915217,\n",
       "       57090.80982425, 57100.67440619, 57065.19973109, 57002.3334971 ,\n",
       "       57017.77812608, 57098.371996  , 56998.39368449, 57100.07727735,\n",
       "       56992.03073551, 57111.18902213, 57024.13630856, 57111.32241133,\n",
       "       57050.78024936, 57065.19973109, 56990.84622063, 57111.32241133,\n",
       "       57083.81303494, 56994.91666861, 57076.75915217, 57100.90253184,\n",
       "       57026.86282934, 57076.75915217, 57024.13630856, 57102.18088609,\n",
       "       56990.84622063, 57016.70141778, 57048.68260933, 57006.82508282,\n",
       "       57083.81303494, 57027.93140617, 57076.75915217, 57096.78688372,\n",
       "       57111.18902213, 57009.92136073, 57003.94797913, 56990.00000008,\n",
       "       57109.75990029, 57090.11815674, 57032.06028211, 57036.15174815,\n",
       "       56990.84622063, 56990.47404803, 57099.23366134, 57048.68260933,\n",
       "       56989.83843996, 57024.13630856, 57107.64526743, 57020.34712436,\n",
       "       56994.91666861, 57078.93114558, 57099.23366134, 57034.09749909,\n",
       "       57108.81667176, 57050.78024936, 57109.75990029, 56992.03073551,\n",
       "       57070.68146798, 57108.81667176, 57076.75915217, 57083.81303494,\n",
       "       57069.16195565, 57111.18902213, 56989.83843996, 57059.51265654,\n",
       "       57083.81303494, 57100.00655407, 57076.75915217, 57100.07727735,\n",
       "       57107.64526743, 57020.97461507, 57095.70611878, 57016.70141778,\n",
       "       56990.84622063, 57096.78688372, 56990.82235788, 56989.6745524 ,\n",
       "       56998.91210311, 57076.75915217, 56996.99680388, 56989.7724069 ,\n",
       "       56990.84622063, 57110.47755547, 57099.23366134, 57076.75915217,\n",
       "       57034.09749909, 57076.75915217, 57050.78024936, 57096.78688372,\n",
       "       56990.74796478, 56989.6745524 , 57009.92136073, 56989.7044343 ,\n",
       "       57076.75915217, 57108.81667176, 57076.75915217, 57024.13630856,\n",
       "       57107.01522551, 57100.90253184, 57097.63919609, 57097.63919609,\n",
       "       57107.01522551, 56990.84622063, 57032.06028211, 57110.47755547,\n",
       "       57076.75915217, 57034.26664032, 56990.00000008, 57099.23366134,\n",
       "       56990.00000008, 57108.81667176, 57104.61439567, 57108.81667176,\n",
       "       56990.84622063, 56990.84622063, 57096.78688372, 56990.13571849,\n",
       "       57111.18902213, 57107.64526743, 57097.63919609, 56990.00000008,\n",
       "       57108.81667176, 57109.75990029, 57024.13630856, 57111.25306091,\n",
       "       57108.81667176, 57083.81303494, 57034.09749909, 56990.74796478,\n",
       "       57007.73170667, 57107.64526743, 57107.64526743, 57002.01871055,\n",
       "       57076.75915217, 57050.78024936, 57065.19973109, 57034.09749909,\n",
       "       57096.78688372, 57050.78024936, 57109.40985349, 57076.75915217,\n",
       "       57076.75915217, 57094.51896198, 57003.94797913, 57052.87348716,\n",
       "       57096.78688372, 57024.05505735, 56990.74796478, 57096.78688372,\n",
       "       57097.63919609, 57109.40985349, 57097.63919609, 57090.21007138,\n",
       "       57096.78688372, 57104.61439567, 57040.30042005, 57007.73170667,\n",
       "       57109.40985349, 57100.90253184, 57076.75915217, 57016.70141778,\n",
       "       56990.00000008, 57002.01871055, 57109.40985349, 57040.30042005,\n",
       "       56990.00000008, 57052.87348716, 57105.77946028, 57109.40985349,\n",
       "       57034.09749909, 56990.00000008, 57001.02808147, 57109.40985349,\n",
       "       57040.30042005, 57009.92136073, 57040.30042005, 57050.78024936,\n",
       "       56990.00000008, 57040.30042005, 57109.40985349, 57108.81667176,\n",
       "       57097.63919609, 57040.30042005, 56990.00000008, 57040.30042005,\n",
       "       57065.19973109, 57097.63919609, 57105.77946028, 57052.87348716,\n",
       "       57009.92136073, 57108.81667176, 57009.92136073, 57001.02808147,\n",
       "       57065.19973109, 57040.30042005, 57050.78024936, 57040.30042005,\n",
       "       56990.00000008, 57097.63919609, 57097.63919609, 57040.30042005,\n",
       "       57040.30042005, 56990.00000008, 57097.63919609, 56990.00000008,\n",
       "       57034.26664032, 57097.63919609, 57097.63919609, 57040.30042005,\n",
       "       56990.00000008, 56990.00000008, 57040.30042005, 57097.63919609,\n",
       "       56990.00000008, 57052.87348716, 56990.00000008, 57009.92136073,\n",
       "       56990.00000008, 57040.30042005, 57097.63919609, 57009.92136073,\n",
       "       57040.30042005, 56990.00000008, 56990.00000008, 56990.00000008,\n",
       "       56990.00000008, 56990.00000008, 56990.00000008, 57040.30042005,\n",
       "       56990.00000008])"
      ]
     },
     "execution_count": 18,
     "metadata": {},
     "output_type": "execute_result"
    }
   ],
   "source": [
    "predicted_values"
   ]
  },
  {
   "cell_type": "code",
   "execution_count": 19,
   "id": "2329825d",
   "metadata": {
    "execution": {
     "iopub.execute_input": "2024-04-02T22:59:51.816410Z",
     "iopub.status.busy": "2024-04-02T22:59:51.815711Z",
     "iopub.status.idle": "2024-04-02T22:59:51.820777Z",
     "shell.execute_reply": "2024-04-02T22:59:51.819948Z"
    },
    "papermill": {
     "duration": 0.019055,
     "end_time": "2024-04-02T22:59:51.822958",
     "exception": false,
     "start_time": "2024-04-02T22:59:51.803903",
     "status": "completed"
    },
    "tags": []
   },
   "outputs": [],
   "source": [
    "# Add predicted values back to original DataFrame\n",
    "df['Predicted_Price'] = predicted_values"
   ]
  },
  {
   "cell_type": "code",
   "execution_count": 20,
   "id": "b27e8f77",
   "metadata": {
    "execution": {
     "iopub.execute_input": "2024-04-02T22:59:51.845722Z",
     "iopub.status.busy": "2024-04-02T22:59:51.845019Z",
     "iopub.status.idle": "2024-04-02T22:59:51.865731Z",
     "shell.execute_reply": "2024-04-02T22:59:51.864847Z"
    },
    "papermill": {
     "duration": 0.034724,
     "end_time": "2024-04-02T22:59:51.868097",
     "exception": false,
     "start_time": "2024-04-02T22:59:51.833373",
     "status": "completed"
    },
    "tags": []
   },
   "outputs": [
    {
     "data": {
      "text/html": [
       "<div>\n",
       "<style scoped>\n",
       "    .dataframe tbody tr th:only-of-type {\n",
       "        vertical-align: middle;\n",
       "    }\n",
       "\n",
       "    .dataframe tbody tr th {\n",
       "        vertical-align: top;\n",
       "    }\n",
       "\n",
       "    .dataframe thead th {\n",
       "        text-align: right;\n",
       "    }\n",
       "</style>\n",
       "<table border=\"1\" class=\"dataframe\">\n",
       "  <thead>\n",
       "    <tr style=\"text-align: right;\">\n",
       "      <th></th>\n",
       "      <th>Battery</th>\n",
       "      <th>Car</th>\n",
       "      <th>Link</th>\n",
       "      <th>Efficiency</th>\n",
       "      <th>Fast Charge</th>\n",
       "      <th>Price</th>\n",
       "      <th>Range</th>\n",
       "      <th>Top Speed</th>\n",
       "      <th>Acceleration</th>\n",
       "      <th>Predicted_Price</th>\n",
       "    </tr>\n",
       "  </thead>\n",
       "  <tbody>\n",
       "    <tr>\n",
       "      <th>0</th>\n",
       "      <td>75.0</td>\n",
       "      <td>Tesla Model Y Long Range Dual Motor</td>\n",
       "      <td>https://ev-database.org/car/1619/Tesla-Model-Y...</td>\n",
       "      <td>172</td>\n",
       "      <td>670.0</td>\n",
       "      <td>59017.0</td>\n",
       "      <td>435</td>\n",
       "      <td>217</td>\n",
       "      <td>5.0</td>\n",
       "      <td>57069.161956</td>\n",
       "    </tr>\n",
       "    <tr>\n",
       "      <th>1</th>\n",
       "      <td>57.5</td>\n",
       "      <td>Tesla Model 3</td>\n",
       "      <td>https://ev-database.org/car/1991/Tesla-Model-3</td>\n",
       "      <td>137</td>\n",
       "      <td>700.0</td>\n",
       "      <td>46220.0</td>\n",
       "      <td>420</td>\n",
       "      <td>201</td>\n",
       "      <td>6.1</td>\n",
       "      <td>57002.596571</td>\n",
       "    </tr>\n",
       "    <tr>\n",
       "      <th>2</th>\n",
       "      <td>60.5</td>\n",
       "      <td>BYD ATTO 3</td>\n",
       "      <td>https://ev-database.org/car/1782/BYD-ATTO-3</td>\n",
       "      <td>183</td>\n",
       "      <td>370.0</td>\n",
       "      <td>44625.0</td>\n",
       "      <td>330</td>\n",
       "      <td>160</td>\n",
       "      <td>7.3</td>\n",
       "      <td>57011.546376</td>\n",
       "    </tr>\n",
       "    <tr>\n",
       "      <th>3</th>\n",
       "      <td>61.7</td>\n",
       "      <td>MG MG4 Electric 64 kWh</td>\n",
       "      <td>https://ev-database.org/car/1708/MG-MG4-Electr...</td>\n",
       "      <td>171</td>\n",
       "      <td>630.0</td>\n",
       "      <td>39990.0</td>\n",
       "      <td>360</td>\n",
       "      <td>160</td>\n",
       "      <td>7.9</td>\n",
       "      <td>57015.638762</td>\n",
       "    </tr>\n",
       "    <tr>\n",
       "      <th>4</th>\n",
       "      <td>75.0</td>\n",
       "      <td>Tesla Model 3 Long Range Dual Motor</td>\n",
       "      <td>https://ev-database.org/car/1992/Tesla-Model-3...</td>\n",
       "      <td>149</td>\n",
       "      <td>780.0</td>\n",
       "      <td>55220.0</td>\n",
       "      <td>505</td>\n",
       "      <td>201</td>\n",
       "      <td>4.4</td>\n",
       "      <td>57069.161956</td>\n",
       "    </tr>\n",
       "    <tr>\n",
       "      <th>...</th>\n",
       "      <td>...</td>\n",
       "      <td>...</td>\n",
       "      <td>...</td>\n",
       "      <td>...</td>\n",
       "      <td>...</td>\n",
       "      <td>...</td>\n",
       "      <td>...</td>\n",
       "      <td>...</td>\n",
       "      <td>...</td>\n",
       "      <td>...</td>\n",
       "    </tr>\n",
       "    <tr>\n",
       "      <th>355</th>\n",
       "      <td>46.3</td>\n",
       "      <td>Citroen e-Jumpy Combi XL 50 kWh</td>\n",
       "      <td>https://ev-database.org/car/1596/Citroen-e-Jum...</td>\n",
       "      <td>257</td>\n",
       "      <td>290.0</td>\n",
       "      <td>52730.0</td>\n",
       "      <td>180</td>\n",
       "      <td>130</td>\n",
       "      <td>12.1</td>\n",
       "      <td>56990.000000</td>\n",
       "    </tr>\n",
       "    <tr>\n",
       "      <th>356</th>\n",
       "      <td>46.3</td>\n",
       "      <td>Fiat E-Ulysse L2 50 kWh</td>\n",
       "      <td>https://ev-database.org/car/1721/Fiat-E-Ulysse...</td>\n",
       "      <td>250</td>\n",
       "      <td>290.0</td>\n",
       "      <td>55990.0</td>\n",
       "      <td>185</td>\n",
       "      <td>130</td>\n",
       "      <td>12.1</td>\n",
       "      <td>56990.000000</td>\n",
       "    </tr>\n",
       "    <tr>\n",
       "      <th>357</th>\n",
       "      <td>46.3</td>\n",
       "      <td>Opel Vivaro-e Combi L 50 kWh</td>\n",
       "      <td>https://ev-database.org/car/1601/Opel-Vivaro-e...</td>\n",
       "      <td>257</td>\n",
       "      <td>290.0</td>\n",
       "      <td>51825.0</td>\n",
       "      <td>180</td>\n",
       "      <td>130</td>\n",
       "      <td>12.1</td>\n",
       "      <td>56990.000000</td>\n",
       "    </tr>\n",
       "    <tr>\n",
       "      <th>358</th>\n",
       "      <td>68.0</td>\n",
       "      <td>Opel Zafira-e Life M 75 kWh</td>\n",
       "      <td>https://ev-database.org/car/1348/Opel-Zafira-e...</td>\n",
       "      <td>257</td>\n",
       "      <td>290.0</td>\n",
       "      <td>69250.0</td>\n",
       "      <td>265</td>\n",
       "      <td>130</td>\n",
       "      <td>13.3</td>\n",
       "      <td>57040.300420</td>\n",
       "    </tr>\n",
       "    <tr>\n",
       "      <th>359</th>\n",
       "      <td>46.3</td>\n",
       "      <td>Fiat E-Ulysse L3 50 kWh</td>\n",
       "      <td>https://ev-database.org/car/1723/Fiat-E-Ulysse...</td>\n",
       "      <td>257</td>\n",
       "      <td>290.0</td>\n",
       "      <td>56990.0</td>\n",
       "      <td>180</td>\n",
       "      <td>130</td>\n",
       "      <td>12.1</td>\n",
       "      <td>56990.000000</td>\n",
       "    </tr>\n",
       "  </tbody>\n",
       "</table>\n",
       "<p>309 rows × 10 columns</p>\n",
       "</div>"
      ],
      "text/plain": [
       "     Battery                                  Car  \\\n",
       "0       75.0  Tesla Model Y Long Range Dual Motor   \n",
       "1       57.5                        Tesla Model 3   \n",
       "2       60.5                           BYD ATTO 3   \n",
       "3       61.7               MG MG4 Electric 64 kWh   \n",
       "4       75.0  Tesla Model 3 Long Range Dual Motor   \n",
       "..       ...                                  ...   \n",
       "355     46.3      Citroen e-Jumpy Combi XL 50 kWh   \n",
       "356     46.3              Fiat E-Ulysse L2 50 kWh   \n",
       "357     46.3         Opel Vivaro-e Combi L 50 kWh   \n",
       "358     68.0          Opel Zafira-e Life M 75 kWh   \n",
       "359     46.3              Fiat E-Ulysse L3 50 kWh   \n",
       "\n",
       "                                                  Link  Efficiency  \\\n",
       "0    https://ev-database.org/car/1619/Tesla-Model-Y...         172   \n",
       "1       https://ev-database.org/car/1991/Tesla-Model-3         137   \n",
       "2          https://ev-database.org/car/1782/BYD-ATTO-3         183   \n",
       "3    https://ev-database.org/car/1708/MG-MG4-Electr...         171   \n",
       "4    https://ev-database.org/car/1992/Tesla-Model-3...         149   \n",
       "..                                                 ...         ...   \n",
       "355  https://ev-database.org/car/1596/Citroen-e-Jum...         257   \n",
       "356  https://ev-database.org/car/1721/Fiat-E-Ulysse...         250   \n",
       "357  https://ev-database.org/car/1601/Opel-Vivaro-e...         257   \n",
       "358  https://ev-database.org/car/1348/Opel-Zafira-e...         257   \n",
       "359  https://ev-database.org/car/1723/Fiat-E-Ulysse...         257   \n",
       "\n",
       "     Fast Charge    Price  Range  Top Speed  Acceleration  Predicted_Price  \n",
       "0          670.0  59017.0    435        217           5.0     57069.161956  \n",
       "1          700.0  46220.0    420        201           6.1     57002.596571  \n",
       "2          370.0  44625.0    330        160           7.3     57011.546376  \n",
       "3          630.0  39990.0    360        160           7.9     57015.638762  \n",
       "4          780.0  55220.0    505        201           4.4     57069.161956  \n",
       "..           ...      ...    ...        ...           ...              ...  \n",
       "355        290.0  52730.0    180        130          12.1     56990.000000  \n",
       "356        290.0  55990.0    185        130          12.1     56990.000000  \n",
       "357        290.0  51825.0    180        130          12.1     56990.000000  \n",
       "358        290.0  69250.0    265        130          13.3     57040.300420  \n",
       "359        290.0  56990.0    180        130          12.1     56990.000000  \n",
       "\n",
       "[309 rows x 10 columns]"
      ]
     },
     "execution_count": 20,
     "metadata": {},
     "output_type": "execute_result"
    }
   ],
   "source": [
    "df"
   ]
  },
  {
   "cell_type": "code",
   "execution_count": 21,
   "id": "b0976a23",
   "metadata": {
    "execution": {
     "iopub.execute_input": "2024-04-02T22:59:51.890934Z",
     "iopub.status.busy": "2024-04-02T22:59:51.890300Z",
     "iopub.status.idle": "2024-04-02T22:59:52.372951Z",
     "shell.execute_reply": "2024-04-02T22:59:52.371875Z"
    },
    "papermill": {
     "duration": 0.496702,
     "end_time": "2024-04-02T22:59:52.375339",
     "exception": false,
     "start_time": "2024-04-02T22:59:51.878637",
     "status": "completed"
    },
    "tags": []
   },
   "outputs": [
    {
     "data": {
      "image/png": "[encoded data removed]",
      "text/plain": [
       "<Figure size 1000x600 with 1 Axes>"
      ]
     },
     "metadata": {},
     "output_type": "display_data"
    }
   ],
   "source": [
    "#adjusted the figure size \n",
    "\n",
    "plt.figure(figsize = (10,6))\n",
    "\n",
    "# plot historgram to compare actual\n",
    "\n",
    "plt.hist(df['Price'], bins = 30, alpha = 0.5, color = 'blue',label = 'Actual Price')\n",
    "\n",
    "\n",
    "# Add labels and titles \n",
    "plt.xlabel('Price')\n",
    "plt.title('Actual Price')\n",
    "plt.legend\n",
    "\n",
    "#show plt\n",
    "plt.show()\n"
   ]
  },
  {
   "cell_type": "code",
   "execution_count": 22,
   "id": "75df0199",
   "metadata": {
    "execution": {
     "iopub.execute_input": "2024-04-02T22:59:52.399943Z",
     "iopub.status.busy": "2024-04-02T22:59:52.399514Z",
     "iopub.status.idle": "2024-04-02T22:59:52.744346Z",
     "shell.execute_reply": "2024-04-02T22:59:52.743018Z"
    },
    "papermill": {
     "duration": 0.360816,
     "end_time": "2024-04-02T22:59:52.747350",
     "exception": false,
     "start_time": "2024-04-02T22:59:52.386534",
     "status": "completed"
    },
    "tags": []
   },
   "outputs": [
    {
     "data": {
      "image/png": "[encoded data removed]",
      "text/plain": [
       "<Figure size 1000x600 with 1 Axes>"
      ]
     },
     "metadata": {},
     "output_type": "display_data"
    }
   ],
   "source": [
    "#adjusted the figure size \n",
    "\n",
    "plt.figure(figsize = (10,6))\n",
    "\n",
    "# plot historgram predicted prices\n",
    "plt.hist(df['Predicted_Price'], bins = 30, alpha = 0.5, color = 'red', label = 'Predicted Price')\n",
    "\n",
    "# Add labels and titles \n",
    "plt.xlabel('Price')\n",
    "plt.title( 'Predicted Price')\n",
    "plt.legend\n",
    "\n",
    "#show plt\n",
    "plt.show()\n"
   ]
  },
  {
   "cell_type": "code",
   "execution_count": null,
   "id": "5d315e6f",
   "metadata": {
    "papermill": {
     "duration": 0.011294,
     "end_time": "2024-04-02T22:59:52.770504",
     "exception": false,
     "start_time": "2024-04-02T22:59:52.759210",
     "status": "completed"
    },
    "tags": []
   },
   "outputs": [],
   "source": []
  }
 ],
 "metadata": {
  "kaggle": {
   "accelerator": "none",
   "dataSources": [
    {
     "datasetId": 4072992,
     "sourceId": 7072273,
     "sourceType": "datasetVersion"
    }
   ],
   "dockerImageVersionId": 30673,
   "isGpuEnabled": false,
   "isInternetEnabled": true,
   "language": "python",
   "sourceType": "notebook"
  },
  "kernelspec": {
   "display_name": "Python 3",
   "language": "python",
   "name": "python3"
  },
  "language_info": {
   "codemirror_mode": {
    "name": "ipython",
    "version": 3
   },
   "file_extension": ".py",
   "mimetype": "text/x-python",
   "name": "python",
   "nbconvert_exporter": "python",
   "pygments_lexer": "ipython3",
   "version": "3.10.13"
  },
  "papermill": {
   "default_parameters": {},
   "duration": 7.813943,
   "end_time": "2024-04-02T22:59:53.403581",
   "environment_variables": {},
   "exception": null,
   "input_path": "__notebook__.ipynb",
   "output_path": "__notebook__.ipynb",
   "parameters": {},
   "start_time": "2024-04-02T22:59:45.589638",
   "version": "2.5.0"
  }
 },
 "nbformat": 4,
 "nbformat_minor": 5
}
